{
 "cells": [
  {
   "cell_type": "markdown",
   "metadata": {},
   "source": [
    "# Project Assignmnet 1 \n",
    "***\n",
    "#### Name = NIRAL PATEL\n",
    "#### ID = 1303276\n",
    "#### Date = 10/17/2022\n",
    "#### Description = Decision Tree and Random Forest Classification model\n",
    "***\n",
    "## Reporting Tasks:\n",
    "1. Compare the accuracies of the Random Forest classifier as a function of the number of base learners (e.g., 10, 50, 100, 500, 1000, and 500) and the number of features to consider at each split (e.g., auto or sqrt). Report your observations/conclusions and provide evidence to support your conclusions. [50 points]\n",
    "2. Compare of the results of all the classifiers (with the best possible parameter setting for each classifier). Use classification accuracy (# of instances correctly classified/total # of instances presented for classification), per class classification accuracy, and confusion matrix to compare the classifiers. [50 points]\n"
   ]
  },
  {
   "cell_type": "code",
   "execution_count": 57,
   "metadata": {},
   "outputs": [],
   "source": [
    "import pandas as pd\n",
    "import numpy as np\n",
    "\n",
    "from sklearn.metrics import confusion_matrix\n",
    "from sklearn.metrics import classification_report\n",
    "from sklearn.metrics import accuracy_score\n",
    "\n",
    "import warnings\n",
    "warnings.filterwarnings(action='ignore')\n",
    "\n",
    "#Other additional imports\n",
    "warnings.filterwarnings('ignore') "
   ]
  },
  {
   "cell_type": "code",
   "execution_count": 58,
   "metadata": {},
   "outputs": [],
   "source": [
    "df = pd.read_csv(\"spam.csv\")"
   ]
  },
  {
   "cell_type": "code",
   "execution_count": 59,
   "metadata": {},
   "outputs": [
    {
     "name": "stdout",
     "output_type": "stream",
     "text": [
      "<class 'pandas.core.frame.DataFrame'>\n",
      "RangeIndex: 4601 entries, 0 to 4600\n",
      "Data columns (total 58 columns):\n",
      " #   Column      Non-Null Count  Dtype  \n",
      "---  ------      --------------  -----  \n",
      " 0   make        4601 non-null   float64\n",
      " 1   address     4601 non-null   float64\n",
      " 2   all         4601 non-null   float64\n",
      " 3   3d          4601 non-null   float64\n",
      " 4   our         4601 non-null   float64\n",
      " 5   over        4601 non-null   float64\n",
      " 6   remove      4601 non-null   float64\n",
      " 7   internet    4601 non-null   float64\n",
      " 8   order       4601 non-null   float64\n",
      " 9   mail        4601 non-null   float64\n",
      " 10  receive     4601 non-null   float64\n",
      " 11  will        4601 non-null   float64\n",
      " 12  people      4601 non-null   float64\n",
      " 13  report      4601 non-null   float64\n",
      " 14  addresses   4601 non-null   float64\n",
      " 15  free        4601 non-null   float64\n",
      " 16  business    4601 non-null   float64\n",
      " 17  email       4601 non-null   float64\n",
      " 18  you         4601 non-null   float64\n",
      " 19  credit      4601 non-null   float64\n",
      " 20  your        4601 non-null   float64\n",
      " 21  font        4601 non-null   float64\n",
      " 22  0           4601 non-null   float64\n",
      " 23  money       4601 non-null   float64\n",
      " 24  hp          4601 non-null   float64\n",
      " 25  hpl         4601 non-null   float64\n",
      " 26  george      4601 non-null   float64\n",
      " 27  650         4601 non-null   float64\n",
      " 28  lab         4601 non-null   float64\n",
      " 29  labs        4601 non-null   float64\n",
      " 30  telnet      4601 non-null   float64\n",
      " 31  857         4601 non-null   float64\n",
      " 32  data        4601 non-null   float64\n",
      " 33  415         4601 non-null   float64\n",
      " 34  85          4601 non-null   float64\n",
      " 35  technology  4601 non-null   float64\n",
      " 36  1999        4601 non-null   float64\n",
      " 37  parts       4601 non-null   float64\n",
      " 38  pm          4601 non-null   float64\n",
      " 39  direct      4601 non-null   float64\n",
      " 40  cs          4601 non-null   float64\n",
      " 41  meeting     4601 non-null   float64\n",
      " 42  original    4601 non-null   float64\n",
      " 43  project     4601 non-null   float64\n",
      " 44  re          4601 non-null   float64\n",
      " 45  edu         4601 non-null   float64\n",
      " 46  table       4601 non-null   float64\n",
      " 47  conference  4601 non-null   float64\n",
      " 48  semicol     4601 non-null   float64\n",
      " 49  paren       4601 non-null   float64\n",
      " 50  bracket     4601 non-null   float64\n",
      " 51  bang        4601 non-null   float64\n",
      " 52  dollar      4601 non-null   float64\n",
      " 53  pound       4601 non-null   float64\n",
      " 54  cap_avg     4601 non-null   float64\n",
      " 55  cap_long    4601 non-null   int64  \n",
      " 56  cap_total   4601 non-null   int64  \n",
      " 57  Class       4601 non-null   object \n",
      "dtypes: float64(55), int64(2), object(1)\n",
      "memory usage: 2.0+ MB\n"
     ]
    }
   ],
   "source": [
    "df.info()"
   ]
  },
  {
   "cell_type": "markdown",
   "metadata": {},
   "source": [
    "#### Train the classifiers using the first 1000 instances and use the remaining 3601 for testing. Feel free to create separate training and testing data files. \n",
    "#### Have your own strategy to deal with any missing feature values (e.g., remove instances with missing features or fill in the missing feature values with the most popular value.)."
   ]
  },
  {
   "cell_type": "code",
   "execution_count": 60,
   "metadata": {},
   "outputs": [
    {
     "name": "stdout",
     "output_type": "stream",
     "text": [
      "Total Train Data (1000, 58) \n",
      "Total Test Data (3601, 58) \n",
      "Test Data set x: (3601, 57) \n",
      "Test Data set y: (3601,) \n",
      "Train Data set x: (1000, 57) \n",
      "Train data set y: (1000,)\n"
     ]
    }
   ],
   "source": [
    "# Creatae the Test and Train Data using basic python sysntex \n",
    "train_df = df.iloc[:1000,:]\n",
    "test_df = df.iloc[1000:,:]\n",
    "\n",
    "X_train = train_df.drop(columns='Class')\n",
    "Y_train = train_df['Class']\n",
    "X_test = test_df.drop(columns='Class')\n",
    "Y_test = test_df['Class']\n",
    "print(\"Total Train Data\", train_df.shape,'\\nTotal Test Data',test_df.shape,\"\\nTest Data set x:\",X_test.shape,'\\nTest Data set y:',Y_test.shape,'\\nTrain Data set x:',X_train.shape,'\\nTrain data set y:',Y_train.shape)"
   ]
  },
  {
   "cell_type": "code",
   "execution_count": 61,
   "metadata": {},
   "outputs": [
    {
     "name": "stdout",
     "output_type": "stream",
     "text": [
      "Total Data (4601, 58) \n",
      "Test Data set x: (3598, 57) \n",
      "Test Data set y: (3598,) \n",
      "Train Data set x: (1003, 57) \n",
      "Train data set y: (1003,)\n"
     ]
    }
   ],
   "source": [
    "# Creatae the Test and Train Data using model selection\n",
    "#--------------------------------\n",
    "from sklearn.model_selection import train_test_split\n",
    "#--------------------------------\n",
    "X = df.drop(columns='Class')\n",
    "y = df['Class']\n",
    "x_train,x_test,y_train,y_test=train_test_split(X,y,test_size=0.782)\n",
    "print(\"Total Data\", df.shape,\"\\nTest Data set x:\",x_test.shape,'\\nTest Data set y:',y_test.shape,'\\nTrain Data set x:',x_train.shape,'\\nTrain data set y:',y_train.shape)"
   ]
  },
  {
   "cell_type": "code",
   "execution_count": 62,
   "metadata": {},
   "outputs": [
    {
     "name": "stdout",
     "output_type": "stream",
     "text": [
      "Classification Accuracy:  0.876 \n",
      "\n"
     ]
    }
   ],
   "source": [
    "# Decision Tree classifier\n",
    "#--------------------------\n",
    "from sklearn.tree import DecisionTreeClassifier\n",
    "#--------------------------\n",
    "\n",
    "# Fit the training model to the desired classifier\n",
    "decision_tree_clf = DecisionTreeClassifier()\n",
    "decision_tree_clf = decision_tree_clf.fit(x_train, y_train)\n",
    "dt_accuracy = decision_tree_clf.score(x_test, y_test)\n",
    "print(\"Classification Accuracy: \", round((dt_accuracy),4), \"\\n\")"
   ]
  },
  {
   "cell_type": "code",
   "execution_count": 63,
   "metadata": {},
   "outputs": [
    {
     "name": "stdout",
     "output_type": "stream",
     "text": [
      "Decision Tree classifier\n",
      "\n",
      "Prediction: ['ham' 'ham' 'ham' ... 'ham' 'spam' 'spam'] \n",
      "\n",
      "Accuracy: 0.876 \n",
      "\n",
      "Report: \n",
      "               precision    recall  f1-score   support\n",
      "\n",
      "         ham       0.89      0.90      0.90      2175\n",
      "        spam       0.85      0.84      0.84      1423\n",
      "\n",
      "    accuracy                           0.88      3598\n",
      "   macro avg       0.87      0.87      0.87      3598\n",
      "weighted avg       0.88      0.88      0.88      3598\n",
      "\n",
      "Confusion Matrix: \n",
      " [[1960  215]\n",
      " [ 231 1192]] \n",
      "\n"
     ]
    }
   ],
   "source": [
    "# Metrics - Decision Tree classifier\n",
    "dt_predict = decision_tree_clf.predict(x_test)\n",
    "print(\"Decision Tree classifier\\n\")\n",
    "print (\"Prediction:\",dt_predict,'\\n')\n",
    "print(\"Accuracy:\", round((accuracy_score(y_test, dt_predict)),4), \"\\n\")\n",
    "print(\"Report: \\n\", classification_report(y_test, dt_predict)) \n",
    "print(\"Confusion Matrix: \\n\", confusion_matrix(y_test, dt_predict), \"\\n\")"
   ]
  },
  {
   "cell_type": "markdown",
   "metadata": {},
   "source": [
    "#### 1. Compare the accuracies of the Random Forest classifier as a function of the number of base learners (e.g., 10, 50, 100, 500, 1000, and 500) and the number of features to consider at each split (e.g., auto or sqrt). Report your observations/conclusions and provide evidence to support your conclusions. [50 points]"
   ]
  },
  {
   "cell_type": "code",
   "execution_count": 64,
   "metadata": {},
   "outputs": [
    {
     "name": "stdout",
     "output_type": "stream",
     "text": [
      "Random Forest Classification model \n",
      "\n",
      "Random Forest model with Feature: auto \n",
      "\n",
      "Classification Accuracy with  10  estimators: 0.9284 \n",
      "\n",
      "Classification Accuracy with  50  estimators: 0.9342 \n",
      "\n",
      "Classification Accuracy with  100  estimators: 0.9309 \n",
      "\n",
      "Classification Accuracy with  500  estimators: 0.9345 \n",
      "\n",
      "Classification Accuracy with  1000  estimators: 0.9334 \n",
      "\n",
      "Classification Accuracy with  5000  estimators: 0.9317 \n",
      "\n",
      "Random Forest model with Feature: sqrt \n",
      "\n",
      "Classification Accuracy with  10  estimators: 0.9242 \n",
      "\n",
      "Classification Accuracy with  50  estimators: 0.935 \n",
      "\n",
      "Classification Accuracy with  100  estimators: 0.9334 \n",
      "\n",
      "Classification Accuracy with  500  estimators: 0.9334 \n",
      "\n",
      "Classification Accuracy with  1000  estimators: 0.9339 \n",
      "\n",
      "Classification Accuracy with  5000  estimators: 0.9336 \n",
      "\n",
      "   accuracy_sqrt  accuracy_auto\n",
      "0       0.924188       0.928353\n",
      "1       0.935018       0.934185\n",
      "2       0.933352       0.930853\n",
      "3       0.933352       0.934463\n",
      "4       0.933907       0.933352\n",
      "5       0.933630       0.931686\n"
     ]
    }
   ],
   "source": [
    "# Random Forest classifier\n",
    "#--------------------------\n",
    "from sklearn.ensemble import RandomForestClassifier\n",
    "#--------------------------\n",
    "\n",
    "estimator = [10,50,100,500,1000,5000] #estimate values\n",
    "features = ['auto', 'sqrt'] #feature values\n",
    "rf_accuracy_auto = [] # Empty array to store the Accuracy score\n",
    "rf_accuracy_sqrt = []\n",
    "print('Random Forest Classification model','\\n')\n",
    "for i in features: #for loop for feature selection\n",
    "    print('Random Forest model with Feature:',i,'\\n')\n",
    "    for j in estimator: #for loop for estimator selection\n",
    "        random_forest_clf = RandomForestClassifier(n_estimators=j, max_features=i) #create a RF model with feature and estimator\n",
    "        random_forest_clf = random_forest_clf.fit(X_train, Y_train) #Train the model\n",
    "        rf_score = random_forest_clf.score(X_test, Y_test) # Test the model and get the accuracy score\n",
    "        print('Classification Accuracy with ',j,' estimators:', round((rf_score),4), \"\\n\")\n",
    "        if i == 'sqrt':\n",
    "            rf_accuracy_sqrt.append(rf_score) #store the accuracy score if feature is squrt\n",
    "        else:\n",
    "            rf_accuracy_auto.append(rf_score) #store the accuracy score if feature is auto\n",
    "\n",
    "accuracy1 = pd.DataFrame(rf_accuracy_sqrt,columns = ['accuracy_sqrt'])\n",
    "accuracy2 = pd.DataFrame(rf_accuracy_auto,columns = ['accuracy_auto'])\n",
    "accuracy = pd.merge(accuracy1,accuracy2,left_index=True,right_index=True)\n",
    "print (accuracy)"
   ]
  },
  {
   "cell_type": "code",
   "execution_count": 65,
   "metadata": {},
   "outputs": [
    {
     "data": {
      "text/html": [
       "<div>\n",
       "<style scoped>\n",
       "    .dataframe tbody tr th:only-of-type {\n",
       "        vertical-align: middle;\n",
       "    }\n",
       "\n",
       "    .dataframe tbody tr th {\n",
       "        vertical-align: top;\n",
       "    }\n",
       "\n",
       "    .dataframe thead th {\n",
       "        text-align: right;\n",
       "    }\n",
       "</style>\n",
       "<table border=\"1\" class=\"dataframe\">\n",
       "  <thead>\n",
       "    <tr style=\"text-align: right;\">\n",
       "      <th></th>\n",
       "      <th>accuracy_sqrt</th>\n",
       "      <th>accuracy_auto</th>\n",
       "    </tr>\n",
       "  </thead>\n",
       "  <tbody>\n",
       "    <tr>\n",
       "      <th>count</th>\n",
       "      <td>6.000000</td>\n",
       "      <td>6.000000</td>\n",
       "    </tr>\n",
       "    <tr>\n",
       "      <th>mean</th>\n",
       "      <td>0.932241</td>\n",
       "      <td>0.932148</td>\n",
       "    </tr>\n",
       "    <tr>\n",
       "      <th>std</th>\n",
       "      <td>0.003993</td>\n",
       "      <td>0.002334</td>\n",
       "    </tr>\n",
       "    <tr>\n",
       "      <th>min</th>\n",
       "      <td>0.924188</td>\n",
       "      <td>0.928353</td>\n",
       "    </tr>\n",
       "    <tr>\n",
       "      <th>25%</th>\n",
       "      <td>0.933352</td>\n",
       "      <td>0.931061</td>\n",
       "    </tr>\n",
       "    <tr>\n",
       "      <th>50%</th>\n",
       "      <td>0.933491</td>\n",
       "      <td>0.932519</td>\n",
       "    </tr>\n",
       "    <tr>\n",
       "      <th>75%</th>\n",
       "      <td>0.933838</td>\n",
       "      <td>0.933977</td>\n",
       "    </tr>\n",
       "    <tr>\n",
       "      <th>max</th>\n",
       "      <td>0.935018</td>\n",
       "      <td>0.934463</td>\n",
       "    </tr>\n",
       "  </tbody>\n",
       "</table>\n",
       "</div>"
      ],
      "text/plain": [
       "       accuracy_sqrt  accuracy_auto\n",
       "count       6.000000       6.000000\n",
       "mean        0.932241       0.932148\n",
       "std         0.003993       0.002334\n",
       "min         0.924188       0.928353\n",
       "25%         0.933352       0.931061\n",
       "50%         0.933491       0.932519\n",
       "75%         0.933838       0.933977\n",
       "max         0.935018       0.934463"
      ]
     },
     "execution_count": 65,
     "metadata": {},
     "output_type": "execute_result"
    }
   ],
   "source": [
    "accuracy.describe()"
   ]
  },
  {
   "cell_type": "code",
   "execution_count": 66,
   "metadata": {},
   "outputs": [
    {
     "name": "stdout",
     "output_type": "stream",
     "text": [
      "Random Forest classifier with SQRT and 5000  estimators\n",
      "\n",
      "Prediction: ['ham' 'ham' 'spam' ... 'ham' 'ham' 'spam'] \n",
      "\n",
      "Accuracy: 0.9336 \n",
      "\n",
      "Report: \n",
      "               precision    recall  f1-score   support\n",
      "\n",
      "         ham       0.93      0.96      0.95      2182\n",
      "        spam       0.94      0.89      0.91      1419\n",
      "\n",
      "    accuracy                           0.93      3601\n",
      "   macro avg       0.93      0.93      0.93      3601\n",
      "weighted avg       0.93      0.93      0.93      3601\n",
      "\n",
      "Confusion Matrix: \n",
      " [[2095   87]\n",
      " [ 152 1267]] \n",
      "\n"
     ]
    }
   ],
   "source": [
    "# Metrics - Random Forest classifier \n",
    "rf_predict = random_forest_clf.predict(X_test)\n",
    "\n",
    "print(\"Random Forest classifier with SQRT and 5000  estimators\\n\")\n",
    "print (\"Prediction:\",rf_predict,'\\n')\n",
    "print(\"Accuracy:\", round((accuracy_score(Y_test, rf_predict)),4), \"\\n\")\n",
    "print(\"Report: \\n\", classification_report(Y_test, rf_predict)) \n",
    "print(\"Confusion Matrix: \\n\", confusion_matrix(Y_test, rf_predict), \"\\n\")"
   ]
  }
 ],
 "metadata": {
  "kernelspec": {
   "display_name": "Python 3.9.13 ('base')",
   "language": "python",
   "name": "python3"
  },
  "language_info": {
   "codemirror_mode": {
    "name": "ipython",
    "version": 3
   },
   "file_extension": ".py",
   "mimetype": "text/x-python",
   "name": "python",
   "nbconvert_exporter": "python",
   "pygments_lexer": "ipython3",
   "version": "3.9.13 (main, Aug 25 2022, 18:29:29) \n[Clang 12.0.0 ]"
  },
  "orig_nbformat": 4,
  "vscode": {
   "interpreter": {
    "hash": "1130c6fcdc5d54d72ee007ae6f050a4e73ebd221f4369885a9fcf27db29a26b6"
   }
  }
 },
 "nbformat": 4,
 "nbformat_minor": 2
}
